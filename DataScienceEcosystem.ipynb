{
 "cells": [
  {
   "cell_type": "markdown",
   "id": "bb1f8c47-9310-4891-a96e-4676c3eab1ab",
   "metadata": {},
   "source": [
    "<h1>Data Science Tools and Ecosystem</h1>"
   ]
  },
  {
   "cell_type": "markdown",
   "id": "f2672e5c-50f2-4c61-ba48-76f33622c21d",
   "metadata": {},
   "source": [
    "<h2>Author</h2>\n",
    "Ruben Atia"
   ]
  },
  {
   "cell_type": "markdown",
   "id": "34df763a-4bc6-4788-b822-5359e2e6efdc",
   "metadata": {},
   "source": [
    "In this notebook, Data Science Tools and Ecosystem are summarized."
   ]
  },
  {
   "cell_type": "markdown",
   "id": "0594edae-60fc-4cea-8b21-f36a7514ad9b",
   "metadata": {},
   "source": [
    "<b>Objectives:</b>"
   ]
  },
  {
   "cell_type": "markdown",
   "id": "83b1e0d6-1a55-4910-8a08-c74c93b7da14",
   "metadata": {},
   "source": [
    "\n",
    "- List popular languages that Data Science uses\n",
    "- Demonstrate basic arithmetic operations by Python\n",
    "- Introduce variable assignment like expression evaluation\n"
   ]
  },
  {
   "cell_type": "markdown",
   "id": "927ad3c3-7d57-4d22-9b53-fee1dde860c6",
   "metadata": {},
   "source": [
    "Some of the popular languages that Data Scientists use are:\r\n",
    "\r\n",
    "1. Python\r\n",
    "2. R\r\n",
    "3. SQL\r\n"
   ]
  },
  {
   "cell_type": "markdown",
   "id": "97ae1ec6-d37d-49e4-bd46-dea116e473cf",
   "metadata": {},
   "source": [
    "Some of the commonly used libraries used by Data Scientists include:"
   ]
  },
  {
   "cell_type": "markdown",
   "id": "d92c3657-ec4b-4939-ad91-c4bfa6ef8a32",
   "metadata": {},
   "source": [
    "1. NumPy\r\n",
    "2. Pandas\r\n",
    "3. Matplotlib\r\n",
    "4. Seaborn\r\n",
    "5. Scikit-learn\r\n",
    "6. TensorFlow\r\n",
    "7. Keras\r\n",
    "8. PyTorch\r\n",
    "9. SciPy\r\n",
    "10. Statsmodels"
   ]
  },
  {
   "cell_type": "markdown",
   "id": "f979a4fd-891f-4b1b-8792-c6d1f815c97e",
   "metadata": {},
   "source": [
    "| Data Science Tools |\r\n",
    "|---------------------|\r\n",
    "| Jupyter Notebook    |\r\n",
    "| RStudio             |\r\n",
    "| VS Code             |"
   ]
  },
  {
   "cell_type": "markdown",
   "id": "66cd1754-604d-4b6c-8fed-24028fccb70e",
   "metadata": {},
   "source": [
    "<h3>Below are a few examples of evaluating arithmetic expressions in Python</h3>"
   ]
  },
  {
   "cell_type": "code",
   "execution_count": null,
   "id": "872e17ff-d857-43e5-9956-09fc49ad9307",
   "metadata": {},
   "outputs": [],
   "source": [
    "# This is a simple arithmetic expression to multiply then add integers.\n",
    "result = (3 * 4) + 5\n",
    "print ('result')\n"
   ]
  },
  {
   "cell_type": "code",
   "execution_count": null,
   "id": "82947497-b330-491b-a34d-81aa41087902",
   "metadata": {},
   "outputs": [],
   "source": [
    "# This will convert 200 minutes to hours by dividing by 60.\n",
    "hours = 200 / 60\n",
    "hours\n"
   ]
  },
  {
   "cell_type": "code",
   "execution_count": null,
   "id": "25ae4f7b-bc91-4721-a1ed-247f97aa6393",
   "metadata": {},
   "outputs": [],
   "source": []
  }
 ],
 "metadata": {
  "kernelspec": {
   "display_name": "anaconda-panel-2023.05-py310",
   "language": "python",
   "name": "conda-env-anaconda-panel-2023.05-py310-py"
  },
  "language_info": {
   "codemirror_mode": {
    "name": "ipython",
    "version": 3
   },
   "file_extension": ".py",
   "mimetype": "text/x-python",
   "name": "python",
   "nbconvert_exporter": "python",
   "pygments_lexer": "ipython3",
   "version": "3.11.5"
  }
 },
 "nbformat": 4,
 "nbformat_minor": 5
}
